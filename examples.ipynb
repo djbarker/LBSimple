{
 "cells": [
  {
   "cell_type": "code",
   "execution_count": 1,
   "metadata": {},
   "outputs": [],
   "source": [
    "import numpy as np\n",
    "from tqdm.notebook import tqdm\n",
    "\n",
    "# Step 0: Import our module!\n",
    "import lbsimple as lb"
   ]
  },
  {
   "cell_type": "code",
   "execution_count": 2,
   "metadata": {},
   "outputs": [
    {
     "name": "stdout",
     "output_type": "stream",
     "text": [
      "Speed of sound: 20.00\n"
     ]
    }
   ],
   "source": [
    "# Step 1: Configure the simulation.\n",
    "domain = lb.DomainMeta(0.002, lb.Sub(150, 150))\n",
    "fluid = lb.FluidMeta(1000, 0.001, lb.Vect(0, 0))\n",
    "sim = lb.Simulation(domain, fluid, 0.0001)\n",
    "\n",
    "print(f\"Speed of sound: {sim.c:.2f}\")"
   ]
  },
  {
   "cell_type": "code",
   "execution_count": 3,
   "metadata": {},
   "outputs": [],
   "source": [
    "def get_vortex(xx: np.array, yy: np.array, \n",
    "               x0: float, y0: float, \n",
    "               vx: float, vy: float, \n",
    "               vmax: float, \n",
    "               sigma: float, \n",
    "               clockwise: bool\n",
    "               ):\n",
    "\n",
    "    dxp = (xx - x0)\n",
    "    dyp = (yy - y0)\n",
    "    r = np.sqrt(dxp * dxp + dyp * dyp)\n",
    "    v = (2 * r / (sigma * sigma)) * np.exp(-r * r / (sigma * sigma))\n",
    "    theta = np.arctan2(dyp, dxp)\n",
    "\n",
    "    sign = 1 if clockwise else -1\n",
    "    vxout = +vmax * v * np.sin(theta) * sign + 2 * np.exp(-r * r / (sigma * sigma)) * vx\n",
    "    vyout = -vmax * v * np.cos(theta) * sign + 2 * np.exp(-r * r / (sigma * sigma)) * vy\n",
    "\n",
    "    return vxout, vyout"
   ]
  },
  {
   "cell_type": "code",
   "execution_count": 4,
   "metadata": {},
   "outputs": [],
   "source": [
    "x = np.linspace(-15, 15, 150)\n",
    "y = np.linspace(-15, 15, 150)\n",
    "xx, yy = np.meshgrid(x, y)\n",
    "\n",
    "vx =  np.zeros_like(xx)\n",
    "vy = np.zeros_like(yy)\n",
    "\n",
    "s_v = 0.15\n",
    "dy_v = 2\n",
    "dx_v = 10\n",
    "for x_v, y_v, vx_v, c in [\n",
    "    (-dx_v/2, dy_v/2, s_v, False),\n",
    "    (-dx_v/2, -dy_v/2, s_v, True),\n",
    "    (dx_v/2, dy_v/2, -s_v, True),\n",
    "    (dx_v/2, -dy_v/2, -s_v, False),\n",
    "]:\n",
    "    vx_, vy_ = get_vortex(xx, yy, x_v, y_v, vx_v, 0, 0.3, 1, c)\n",
    "    vx += vx_\n",
    "    vy += vy_\n",
    "\n",
    "vxy = np.stack([vx, vy], -1)\n",
    "\n",
    "# vxy += (np.random.uniform(size=vxy.shape) - 0.5) * 0.001\n",
    "\n",
    "# Step 2: Set the initial conditions.\n",
    "sim.set_velocities(vxy)"
   ]
  },
  {
   "cell_type": "code",
   "execution_count": 5,
   "metadata": {},
   "outputs": [
    {
     "data": {
      "application/vnd.jupyter.widget-view+json": {
       "model_id": "01818a8c33a5483b8d2b5230657a2be7",
       "version_major": 2,
       "version_minor": 0
      },
      "text/plain": [
       "  0%|          | 0/249 [00:00<?, ?it/s]"
      ]
     },
     "metadata": {},
     "output_type": "display_data"
    }
   ],
   "source": [
    "# Step 3: Run the simulation and output the results to VTK files.\n",
    "sim.write_grid_vtp(f\"out/test_{0:06d}.vti\")\n",
    "for i in tqdm(list(range(1, 250))):\n",
    "    # sim.run_for(0.1)\n",
    "    sim.iterate_for(100)\n",
    "    sim.write_grid_vtp(f\"out/test_{i:06d}.vti\")"
   ]
  },
  {
   "cell_type": "code",
   "execution_count": 4,
   "metadata": {},
   "outputs": [],
   "source": []
  }
 ],
 "metadata": {
  "kernelspec": {
   "display_name": "base",
   "language": "python",
   "name": "python3"
  },
  "language_info": {
   "codemirror_mode": {
    "name": "ipython",
    "version": 3
   },
   "file_extension": ".py",
   "mimetype": "text/x-python",
   "name": "python",
   "nbconvert_exporter": "python",
   "pygments_lexer": "ipython3",
   "version": "3.9.12"
  },
  "orig_nbformat": 4
 },
 "nbformat": 4,
 "nbformat_minor": 2
}
